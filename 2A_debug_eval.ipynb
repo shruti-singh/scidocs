{
 "cells": [
  {
   "cell_type": "code",
   "execution_count": 4,
   "metadata": {},
   "outputs": [],
   "source": [
    "import json\n",
    "import numpy as np\n",
    "from tqdm import tqdm"
   ]
  },
  {
   "cell_type": "code",
   "execution_count": 10,
   "metadata": {},
   "outputs": [],
   "source": [
    "# model_name could be [specter, shf, oag]\n",
    "model_name = 'oag'\n",
    "\n",
    "# point to the included embeddings jsonl\n",
    "classification_embeddings_path = 'data/{}-embeddings/cls.jsonl'.format(model_name)\n",
    "user_activity_and_citations_embeddings_path = 'data/{}-embeddings/user-citation.jsonl'.format(model_name)\n",
    "recomm_embeddings_path = 'data/{}-embeddings/recomm.jsonl'.format(model_name)\n",
    "\n",
    "embeddings_path = classification_embeddings_path"
   ]
  },
  {
   "cell_type": "code",
   "execution_count": 19,
   "metadata": {},
   "outputs": [],
   "source": [
    "!mkdir data/trained_embs/oagbert-embeddings"
   ]
  },
  {
   "cell_type": "code",
   "execution_count": 23,
   "metadata": {},
   "outputs": [
    {
     "name": "stderr",
     "output_type": "stream",
     "text": [
      "reading embeddings from file...: 36261it [00:12, 2895.86it/s]\n",
      "reading embeddings from file...: 48473it [00:17, 2753.51it/s]\n",
      "reading embeddings from file...: 142009it [00:51, 2746.06it/s]\n"
     ]
    }
   ],
   "source": [
    "for embeddings_path in [recomm_embeddings_path, classification_embeddings_path, user_activity_and_citations_embeddings_path]:\n",
    "    \n",
    "    embeddings = {}\n",
    "    with open(embeddings_path, 'r') as f:\n",
    "        for line in tqdm(f, desc='reading embeddings from file...'):\n",
    "            line_json = json.loads(line)\n",
    "            embeddings[line_json['paper_id']] = np.array(line_json['embedding'][0])\n",
    "    \n",
    "    out_file_name = embeddings_path.rsplit(\"/\", 1)[-1]\n",
    "    out_file_name = out_file_name.replace(\"paper_metadata_\", \"\")\n",
    "    \n",
    "\n",
    "    with open(\"./data/trained_embs/oagbert-embeddings/\" + out_file_name, 'w') as outfile:\n",
    "        for _, entry in enumerate(embeddings):\n",
    "            try:\n",
    "                outfile.write(json.dumps({\"paper_id\": entry, \"embedding\": embeddings[entry].tolist()}) + '\\n')\n",
    "            except Exception as ex:\n",
    "                print(_, entry)\n",
    "                print(ex)\n",
    "                break"
   ]
  },
  {
   "cell_type": "code",
   "execution_count": 14,
   "metadata": {},
   "outputs": [
    {
     "data": {
      "text/plain": [
       "dict_keys(['paper_id', 'embedding'])"
      ]
     },
     "execution_count": 14,
     "metadata": {},
     "output_type": "execute_result"
    }
   ],
   "source": [
    "line_json.keys()"
   ]
  },
  {
   "cell_type": "code",
   "execution_count": 15,
   "metadata": {},
   "outputs": [
    {
     "data": {
      "text/plain": [
       "1"
      ]
     },
     "execution_count": 15,
     "metadata": {},
     "output_type": "execute_result"
    }
   ],
   "source": [
    "len(embeddings)"
   ]
  },
  {
   "cell_type": "code",
   "execution_count": 18,
   "metadata": {},
   "outputs": [
    {
     "data": {
      "text/plain": [
       "768"
      ]
     },
     "execution_count": 18,
     "metadata": {},
     "output_type": "execute_result"
    }
   ],
   "source": [
    "len(line_json['embedding'][0])"
   ]
  },
  {
   "cell_type": "code",
   "execution_count": null,
   "metadata": {},
   "outputs": [],
   "source": []
  }
 ],
 "metadata": {
  "kernelspec": {
   "display_name": "Python 3.7.0 ('scidocs')",
   "language": "python",
   "name": "python3"
  },
  "language_info": {
   "codemirror_mode": {
    "name": "ipython",
    "version": 3
   },
   "file_extension": ".py",
   "mimetype": "text/x-python",
   "name": "python",
   "nbconvert_exporter": "python",
   "pygments_lexer": "ipython3",
   "version": "3.7.0"
  },
  "orig_nbformat": 4,
  "vscode": {
   "interpreter": {
    "hash": "27453f430173eb11dce203e8e6cdd7bad0bab995224222689258e6e1a455edad"
   }
  }
 },
 "nbformat": 4,
 "nbformat_minor": 2
}
